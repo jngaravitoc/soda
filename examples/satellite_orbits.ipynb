{
 "cells": [
  {
   "cell_type": "code",
   "execution_count": 1,
   "metadata": {
    "collapsed": false
   },
   "outputs": [
    {
     "name": "stderr",
     "output_type": "stream",
     "text": [
      "/usr/local/lib/python3.4/dist-packages/matplotlib/__init__.py:841: UserWarning: Found matplotlib configuration in ~/.matplotlib/. To conform with the XDG base directory standard, this configuration location has been deprecated on Linux, and the new location is now /home/ngaravito/.config/matplotlib/. Please move your configuration there to ensure that matplotlib will continue to find it in the future.\n",
      "  _get_xdg_config_dir())\n"
     ]
    },
    {
     "name": "stdout",
     "output_type": "stream",
     "text": [
      "Populating the interactive namespace from numpy and matplotlib\n"
     ]
    }
   ],
   "source": [
    "%pylab inline\n",
    "import soda"
   ]
  },
  {
   "cell_type": "code",
   "execution_count": 40,
   "metadata": {
    "collapsed": true
   },
   "outputs": [],
   "source": [
    "sat_pos = np.array([-1, -41, -28])\n",
    "sat_vel = np.array([-57, -226, 221])\n",
    "pos_host = np.array([0,0,0])\n",
    "vel_host = np.array([0,0,0])\n",
    "host_model = ['NFW', 1E12, 261, 9.86]\n",
    "disk_params = [6.5E10, 3.5, 0.53]\n",
    "bulge_params = [1E10, 0.7]\n",
    "alpha = [0, 0.4]\n",
    "time = 0.1\n",
    "d_t = 0.001"
   ]
  },
  {
   "cell_type": "code",
   "execution_count": 41,
   "metadata": {
    "collapsed": true
   },
   "outputs": [],
   "source": [
    "# From Gomez 15 et al\n",
    "sat_mass = [3E10, 5E10, 8E10, 1E11, 1.8E11, 2.5E11]\n",
    "sat_rs = [8, 11, 14, 15, 20, 22.5]\n",
    "sat_model = ['hernquist', sat_mass[4], sat_rs[4]]\n"
   ]
  },
  {
   "cell_type": "code",
   "execution_count": 42,
   "metadata": {
    "collapsed": false
   },
   "outputs": [],
   "source": [
    "satellite_orbits=np.genfromtxt('MW_dwarfs_6D.csv', delimiter=',')\n",
    "\n",
    "x = satellite_orbits[:,1]\n",
    "y = satellite_orbits[:,2]\n",
    "z = satellite_orbits[:,3]\n",
    "\n",
    "vx = satellite_orbits[:,6]\n",
    "vy = satellite_orbits[:,7]\n",
    "vz = satellite_orbits[:,8]\n",
    "\n"
   ]
  },
  {
   "cell_type": "code",
   "execution_count": 43,
   "metadata": {
    "collapsed": true
   },
   "outputs": [],
   "source": [
    "names = ['Fornax', 'Sculptor', 'Carina', 'Draco', 'LeoI', 'UrsaMinor', 'Sextants', 'LeoII',\n",
    "         'Sagittarius', 'SMC', 'LMC']"
   ]
  },
  {
   "cell_type": "code",
   "execution_count": null,
   "metadata": {
    "collapsed": true
   },
   "outputs": [],
   "source": []
  },
  {
   "cell_type": "code",
   "execution_count": 44,
   "metadata": {
    "collapsed": true
   },
   "outputs": [],
   "source": [
    "def write_orbits(file_name, t, x, y, z, vx, vy, vz):\n",
    "    f=open(file_name+'_orbit.txt', 'w')\n",
    "    f.write('# t(Myrs), x_gal(kpc), y_gal(kpc), z_gal(kpc), vx_gal(km/s), vy_gal(km/s),'\\\n",
    "            'vz_gal(km/s) \\n')\n",
    "    for i in range(len(x)):\n",
    "        f.write(\"{:.2f} {:.2f} {:.2f} {:.2f} {:.2f} {:.2f} {:.2f} \\n\".format(t[i]*1000, x[i], y[i], z[i],\\\n",
    "                                                                             vx[i], vy[i], vz[i]))\n",
    "    f.close()\n",
    "    "
   ]
  },
  {
   "cell_type": "code",
   "execution_count": 45,
   "metadata": {
    "collapsed": false
   },
   "outputs": [
    {
     "name": "stdout",
     "output_type": "stream",
     "text": [
      "Host:  0.0 0.0 0.0\n",
      "Satellite 1 : -1.0 -41.0 -28.0\n",
      "Host:  0.0 0.0 0.0\n",
      "Satellite 1 : -1.0 -41.0 -28.0\n",
      "Host:  0.0 0.0 0.0\n",
      "Satellite 1 : -1.0 -41.0 -28.0\n",
      "Host:  0.0 0.0 0.0\n",
      "Satellite 1 : -1.0 -41.0 -28.0\n",
      "Host:  0.0 0.0 0.0\n",
      "Satellite 1 : -1.0 -41.0 -28.0\n",
      "Host:  0.0 0.0 0.0\n",
      "Satellite 1 : -1.0 -41.0 -28.0\n",
      "Host:  0.0 0.0 0.0\n",
      "Satellite 1 : -1.0 -41.0 -28.0\n",
      "Host:  0.0 0.0 0.0\n",
      "Satellite 1 : -1.0 -41.0 -28.0\n",
      "Host:  0.0 0.0 0.0\n",
      "Satellite 1 : -1.0 -41.0 -28.0\n",
      "Host:  0.0 0.0 0.0\n",
      "Satellite 1 : -1.0 -41.0 -28.0\n",
      "Host:  0.0 0.0 0.0\n",
      "Satellite 1 : -1.0 -41.0 -28.0\n"
     ]
    }
   ],
   "source": [
    "for i in range(len(names)):\n",
    "    pos_p = [x[i], y[i], z[i]]\n",
    "    vel_p = [vx[i], vy[i], vz[i]]\n",
    "    t, xyz_sat, vxyz_sat, xyz_host, vxyz_host, xyz_p, vxyz_p = soda.leapfrog.integrate_sat(time, pos_host, \n",
    "                                                                                           vel_host, host_model,\n",
    "                                                                                           disk_params, \n",
    "                                                                                           bulge_params, \n",
    "                                                                                           alpha=alpha,\n",
    "                                                                                           dt=d_t,\n",
    "                                                                                           satellite_model=sat_model,\n",
    "                                                                                           pos_sat=sat_pos, \n",
    "                                                                                           vel_sat=sat_vel,\n",
    "                                                                                           pos_p=pos_p, \n",
    "                                                                                           vel_p=vel_p)\n",
    "    write_orbits(names[i], t, xyz_p[:,0]-xyz_host[:,0], xyz_p[:,1]-xyz_host[:,1], xyz_p[:,2]-xyz_host[:,2],\n",
    "            vxyz_p[:,0]-vxyz_host[:,0], vxyz_p[:,1]-vxyz_host[:,1], vxyz_p[:,2]-vxyz_host[:,2])"
   ]
  },
  {
   "cell_type": "code",
   "execution_count": 36,
   "metadata": {
    "collapsed": false
   },
   "outputs": [],
   "source": [
    "write_orbits(names[0], t, xyz_p[:,0]-xyz_host[:,0], xyz_p[:,1]-xyz_host[:,1], xyz_p[:,2]-xyz_host[:,2],\n",
    "            vxyz_p[:,0]-vxyz_host[:,0], vxyz_p[:,1]-vxyz_host[:,1], vxyz_p[:,2]-vxyz_host[:,2])"
   ]
  },
  {
   "cell_type": "code",
   "execution_count": 26,
   "metadata": {
    "collapsed": false
   },
   "outputs": [
    {
     "data": {
      "text/plain": [
       "[<matplotlib.lines.Line2D at 0x7f72877eb6d8>]"
      ]
     },
     "execution_count": 26,
     "metadata": {},
     "output_type": "execute_result"
    },
    {
     "data": {
      "image/png": "[encoded data removed]",
      "text/plain": [
       "<matplotlib.figure.Figure at 0x7f72877eb710>"
      ]
     },
     "metadata": {},
     "output_type": "display_data"
    }
   ],
   "source": [
    "plot(xyz_p[:,0], xyz_p[:,1])\n",
    "plot(xyz_sat[:,0], xyz_sat[:,1])"
   ]
  },
  {
   "cell_type": "code",
   "execution_count": null,
   "metadata": {
    "collapsed": true
   },
   "outputs": [],
   "source": []
  }
 ],
 "metadata": {
  "kernelspec": {
   "display_name": "Python 3",
   "language": "python",
   "name": "python3"
  },
  "language_info": {
   "codemirror_mode": {
    "name": "ipython",
    "version": 3
   },
   "file_extension": ".py",
   "mimetype": "text/x-python",
   "name": "python",
   "nbconvert_exporter": "python",
   "pygments_lexer": "ipython3",
   "version": "3.4.3"
  }
 },
 "nbformat": 4,
 "nbformat_minor": 0
}
